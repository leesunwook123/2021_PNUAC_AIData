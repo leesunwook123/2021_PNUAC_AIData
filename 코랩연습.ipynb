{
  "nbformat": 4,
  "nbformat_minor": 0,
  "metadata": {
    "colab": {
      "name": "코랩연습.ipynb",
      "provenance": [],
      "mount_file_id": "133q9wQmvInF8zqX88LZ-BqxTGn2vHLem",
      "authorship_tag": "ABX9TyPl4WZLx2ru4akkdX1+YlGc",
      "include_colab_link": true
    },
    "kernelspec": {
      "name": "python3",
      "display_name": "Python 3"
    },
    "language_info": {
      "name": "python"
    },
    "accelerator": "GPU"
  },
  "cells": [
    {
      "cell_type": "markdown",
      "metadata": {
        "id": "view-in-github",
        "colab_type": "text"
      },
      "source": [
        "<a href=\"https://colab.research.google.com/github/leesunwook123/2021_PNUAC_AIData/blob/main/%EC%BD%94%EB%9E%A9%EC%97%B0%EC%8A%B5.ipynb\" target=\"_parent\"><img src=\"https://colab.research.google.com/assets/colab-badge.svg\" alt=\"Open In Colab\"/></a>"
      ]
    },
    {
      "cell_type": "markdown",
      "metadata": {
        "id": "bYZMA69Idn-Z"
      },
      "source": [
        "#코랩연습 파일"
      ]
    },
    {
      "cell_type": "markdown",
      "metadata": {
        "id": "Oj-msJnWeZfL"
      },
      "source": [
        "## **텍스트 셀**"
      ]
    },
    {
      "cell_type": "code",
      "metadata": {
        "id": "cVJdA6VzeYX5"
      },
      "source": [
        ""
      ],
      "execution_count": null,
      "outputs": []
    },
    {
      "cell_type": "code",
      "metadata": {
        "id": "8By6Sj4ycR_m"
      },
      "source": [
        ""
      ],
      "execution_count": null,
      "outputs": []
    }
  ]
}