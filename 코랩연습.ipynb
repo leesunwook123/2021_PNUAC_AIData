{
  "nbformat": 4,
  "nbformat_minor": 0,
  "metadata": {
    "colab": {
      "name": "코랩연습.ipynb",
      "provenance": [],
      "collapsed_sections": [],
      "toc_visible": true,
      "mount_file_id": "133q9wQmvInF8zqX88LZ-BqxTGn2vHLem",
      "authorship_tag": "ABX9TyN9Ne0tFCxfpZCHydqWSFU1",
      "include_colab_link": true
    },
    "kernelspec": {
      "name": "python3",
      "display_name": "Python 3"
    },
    "language_info": {
      "name": "python"
    },
    "accelerator": "GPU"
  },
  "cells": [
    {
      "cell_type": "markdown",
      "metadata": {
        "id": "view-in-github",
        "colab_type": "text"
      },
      "source": [
        "<a href=\"https://colab.research.google.com/github/leesunwook123/2021_PNUAC_AIData/blob/main/%EC%BD%94%EB%9E%A9%EC%97%B0%EC%8A%B5.ipynb\" target=\"_parent\"><img src=\"https://colab.research.google.com/assets/colab-badge.svg\" alt=\"Open In Colab\"/></a>"
      ]
    },
    {
      "cell_type": "markdown",
      "metadata": {
        "id": "bYZMA69Idn-Z"
      },
      "source": [
        "#코랩연습 파일"
      ]
    },
    {
      "cell_type": "markdown",
      "metadata": {
        "id": "Oj-msJnWeZfL"
      },
      "source": [
        "## **텍스트 셀**\n",
        "+ 두 번 클릭하여애 셀을 편집\n",
        "+ 마크 다운 구문을 사용하여 작성\n",
        " + 마크 다운은 텍스트 기반의 마크업언어\n",
        " + 마크 다운 문법 : [문법보기](https://colab.research.google.com/notebooks/markdown_guide.ipynb)"
      ]
    },
    {
      "cell_type": "code",
      "metadata": {
        "colab": {
          "base_uri": "https://localhost:8080/"
        },
        "id": "lOb-s1LWfw5q",
        "outputId": "0a1de71c-1c7d-4a88-ee59-6945200a7854"
      },
      "source": [
        "print(\"Hello Python!\")"
      ],
      "execution_count": 1,
      "outputs": [
        {
          "output_type": "stream",
          "text": [
            "Hello Python!\n"
          ],
          "name": "stdout"
        }
      ]
    },
    {
      "cell_type": "code",
      "metadata": {
        "id": "cVJdA6VzeYX5"
      },
      "source": [
        "x = 10"
      ],
      "execution_count": 4,
      "outputs": []
    },
    {
      "cell_type": "code",
      "metadata": {
        "id": "8By6Sj4ycR_m"
      },
      "source": [
        "y = 20"
      ],
      "execution_count": 5,
      "outputs": []
    },
    {
      "cell_type": "code",
      "metadata": {
        "colab": {
          "base_uri": "https://localhost:8080/"
        },
        "id": "d3q3SynBgyEh",
        "outputId": "0e948e48-8ce6-469f-8f55-03a53ec99610"
      },
      "source": [
        "print(f'{x} , {y}')"
      ],
      "execution_count": 6,
      "outputs": [
        {
          "output_type": "stream",
          "text": [
            "10 , 20\n"
          ],
          "name": "stdout"
        }
      ]
    }
  ]
}